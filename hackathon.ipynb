{
 "cells": [
  {
   "cell_type": "markdown",
   "id": "8b1ae677",
   "metadata": {},
   "source": [
    "# SAT Machine Learning Hackathon Team $\\Sigma \\Omega$"
   ]
  }
 ],
 "metadata": {
  "language_info": {
   "name": "python"
  }
 },
 "nbformat": 4,
 "nbformat_minor": 5
}
