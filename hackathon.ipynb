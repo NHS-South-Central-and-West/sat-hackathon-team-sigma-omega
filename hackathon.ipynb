{
 "cells": [
  {
   "cell_type": "markdown",
   "id": "8b1ae677",
   "metadata": {},
   "source": [
    "# SAT Machine Learning Hackathon Team $\\Sigma \\Omega$"
   ]
  },
  {
   "cell_type": "code",
   "execution_count": null,
   "id": "fa40a68b",
   "metadata": {},
   "outputs": [],
   "source": [
    "import numpy as np\n",
    "import pandas as pd\n",
    "import seaborn as sns\n",
    "import matplotlib.pyplot as plt\n",
    "from sklearn.linear_model import LogisticRegression\n",
    "from sklearn.metrics import brier_score_loss\n",
    "from sklearn.model_selection import train_test_split\n",
    "\n",
    "pd.options.future.infer_string = True\n",
    "\n",
    "df = (\n",
    "    pd.read_csv(\n",
    "        'data/train.csv', \n",
    "        dtype={\n",
    "            'attendance_category': 'str', \n",
    "            'treatment_function_code': 'str', \n",
    "            'palliative_care_description': 'str',\n",
    "            }\n",
    "        )\n",
    ")\n",
    "\n",
    "df = df.drop(columns=[\n",
    "    'nhs_number',\n",
    "    'organisation_code_provider',\n",
    "    'organisation_code_commissioner',\n",
    "    'lsoa_11',\n",
    "    'index_of_multiple_deprivation_description',\n",
    "    'accommodation_status_desc',\n",
    "    'treatment_function_code',\n",
    "    'acuity_code_approved',\n",
    "    'gp_practice',\n",
    "    'gp_practice_code', # high cardinality categorical variable. Take out for now and bring back for CatBoost\n",
    "    'palliative_care_description',\n",
    "    'care_home_name',\n",
    "    'patient_status', # leaks data i.e. if someone has died, can they reattend?\n",
    "    'all_long_term_conditions',\n",
    "    'segmentation_bridges_to_health_description',\n",
    "    'patient_registration_status',\n",
    "    'all_long_term_condition_count',\n",
    "    'attendance_category'\n",
    "]\n",
    ")\n",
    "df['stated_gender'] = df['stated_gender'].astype(str)\n",
    "df['stated_gender'] = df['stated_gender'].replace('nan','X') # unknown is meant to be X. 9 is unable to classify as one or the other.\n",
    "df['stated_gender'] = df['stated_gender'].str.replace('.0','',regex=False)\n",
    "df['stated_gender'].unique()\n",
    "df['arrival_datetime'] = pd.to_datetime(df['arrival_datetime'], dayfirst=True)\n",
    "df['arrival_time'] = df['arrival_datetime'].dt.time\n",
    "df['arrival_outside_of_core_gp_hours'] = df['arrival_datetime'].dt.hour.apply(lambda x: 1 if (x < 8) | (x >= 18) else 0)\n",
    "df = df.dropna()"
   ]
  },
  {
   "cell_type": "code",
   "execution_count": null,
   "id": "d0553dde",
   "metadata": {},
   "outputs": [],
   "source": [
    "\n",
    "age_bins = [0, 18, 30, 45, 65, 80, 100]\n",
    "age_labels = ['0-17', '18-29', '30-44', '45-64', '65-79', '80+']\n",
    "df['age_bin'] = pd.cut(df['age_at_arrival'], bins=age_bins, labels=age_labels, right=False)\n",
    "sns.countplot(data=df, x='age_bin', hue='frequent_attender', dodge=False)\n",
    "plt.ylabel('Count')\n",
    "plt.show()"
   ]
  },
  {
   "cell_type": "code",
   "execution_count": null,
   "id": "32e0dd6d",
   "metadata": {},
   "outputs": [],
   "source": [
    "import matplotlib.ticker as mticker\n",
    "\n",
    "fraction_df = (\n",
    "    df.groupby('long_term_condition_count_number')['frequent_attender']\n",
    "    .value_counts(normalize=True)\n",
    "    .unstack()\n",
    ")\n",
    "\n",
    "fraction_df.plot(\n",
    "\tkind='bar',\n",
    "\tstacked=True,\n",
    "\tfigsize=(10, 6),\n",
    "\tcolor=[\"#0062FF\", '#DD8452']\n",
    ")\n",
    "\n",
    "plt.legend(title='Frequent Attender')\n",
    "plt.tight_layout()\n",
    "\n",
    "\n",
    "ax = plt.gca()\n",
    "ax.yaxis.set_major_formatter(mticker.PercentFormatter(xmax=1, decimals=0))\n",
    "ax.legend(title='Frequent Attender', labels=['No', 'Yes'])\n",
    "plt.show()"
   ]
  },
  {
   "cell_type": "code",
   "execution_count": null,
   "id": "559d829c",
   "metadata": {},
   "outputs": [],
   "source": [
    "sns.histplot(x=df['departure_time_since_arrival'][df['departure_time_since_arrival'] <= 600],bins=50)"
   ]
  },
  {
   "cell_type": "code",
   "execution_count": null,
   "id": "17a3c9db",
   "metadata": {},
   "outputs": [],
   "source": [
    "import matplotlib.ticker as mticker\n",
    "\n",
    "fraction_df2 = (\n",
    "\tdf.groupby('destination_desc')['frequent_attender']\n",
    "\t.value_counts(normalize=True)\n",
    "\t.unstack()\n",
    ")\n",
    "\n",
    "fraction_df2.plot(\n",
    "\tkind='barh',  # horizontal bar plot\n",
    "\tstacked=True,\n",
    "\tfigsize=(10, 7),\n",
    ")\n",
    "\n",
    "ax = plt.gca()\n",
    "ax.xaxis.set_major_formatter(mticker.PercentFormatter(xmax=1, decimals=0))\n",
    "plt.show()"
   ]
  },
  {
   "cell_type": "code",
   "execution_count": null,
   "id": "b822cd5b",
   "metadata": {},
   "outputs": [],
   "source": [
    "y = df['frequent_attender']\n",
    "X = df.drop(columns=['frequent_attender'])\n",
    "X_features = X.columns\n",
    "X_train, X_test, y_train, y_test = train_test_split(X, y, test_size=0.30, random_state=42)\n",
    " "
   ]
  },
  {
   "cell_type": "code",
   "execution_count": null,
   "id": "9040aacc",
   "metadata": {},
   "outputs": [],
   "source": [
    "def is_over_70(row):\n",
    "    if row['age_at_arrival'] > 69:\n",
    "        return 1\n",
    "    else:\n",
    "        return 0\n",
    " \n",
    "X_train['over_70'] = X_train.apply(is_over_70, axis = 1)"
   ]
  },
  {
   "cell_type": "code",
   "execution_count": null,
   "id": "ce1a2b97",
   "metadata": {},
   "outputs": [],
   "source": [
    "X_train[\"is_weekend\"] = (X_train['arrival_datetime'].dt.dayofweek >= 5).astype(int)"
   ]
  },
  {
   "cell_type": "code",
   "execution_count": null,
   "id": "91ce6c00",
   "metadata": {},
   "outputs": [],
   "source": [
    "def is_4hr_wait(row):\n",
    "    if row['departure_time_since_arrival'] > 240:\n",
    "        return 1\n",
    "    else:\n",
    "        return 0\n",
    "   \n",
    "X_train['four_hr_Wait'] = X_train.apply(is_4hr_wait, axis=1)"
   ]
  },
  {
   "cell_type": "code",
   "execution_count": null,
   "id": "0dbdd648",
   "metadata": {},
   "outputs": [],
   "source": [
    "X_train = pd.concat([X_train, pd.get_dummies(X_train['stated_gender'], prefix='gender_code', dtype=int)], axis=1)"
   ]
  }
 ],
 "metadata": {
  "kernelspec": {
   "display_name": "sat-hackathon-team-sigma-omega",
   "language": "python",
   "name": "python3"
  },
  "language_info": {
   "codemirror_mode": {
    "name": "ipython",
    "version": 3
   },
   "file_extension": ".py",
   "mimetype": "text/x-python",
   "name": "python",
   "nbconvert_exporter": "python",
   "pygments_lexer": "ipython3",
   "version": "3.12.9"
  }
 },
 "nbformat": 4,
 "nbformat_minor": 5
}
